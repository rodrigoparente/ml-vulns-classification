{
 "cells": [
  {
   "cell_type": "markdown",
   "id": "fead4cc1",
   "metadata": {},
   "source": [
    "## Imports"
   ]
  },
  {
   "cell_type": "code",
   "execution_count": 1,
   "id": "c0152e37",
   "metadata": {},
   "outputs": [],
   "source": [
    "import numpy as np\n",
    "import pandas as pd\n",
    "\n",
    "from autorank import autorank\n",
    "from autorank import plot_stats\n",
    "from autorank import create_report\n",
    "from autorank import latex_table\n",
    "\n",
    "from matplotlib import pyplot as plt\n",
    "import seaborn as sns\n",
    "\n",
    "%matplotlib inline"
   ]
  },
  {
   "cell_type": "code",
   "execution_count": 2,
   "id": "0045096d",
   "metadata": {},
   "outputs": [],
   "source": [
    "# filtering messages to error\n",
    "import warnings\n",
    "\n",
    "warnings.filterwarnings('ignore')"
   ]
  },
  {
   "cell_type": "markdown",
   "id": "b2eff3a3",
   "metadata": {},
   "source": [
    "## Utils"
   ]
  },
  {
   "cell_type": "code",
   "execution_count": 3,
   "id": "3d1dac67",
   "metadata": {},
   "outputs": [],
   "source": [
    "def read_file(filename):\n",
    "    tmp = list()\n",
    "    with open(filename) as f:\n",
    "        for line in f:\n",
    "            if len(line.rstrip()) == 0:\n",
    "                continue\n",
    "            tmp.append([float(i) for i in line.rstrip().split(',')])\n",
    "    return tmp"
   ]
  },
  {
   "cell_type": "markdown",
   "id": "523cf6f2",
   "metadata": {},
   "source": [
    "## Loading Results"
   ]
  },
  {
   "cell_type": "code",
   "execution_count": 4,
   "id": "40d8d9a6",
   "metadata": {},
   "outputs": [],
   "source": [
    "ACTIVE_SUPER = 0\n",
    "\n",
    "RF = 0\n",
    "GB = 1\n",
    "LR = 2\n",
    "SVC = 3\n",
    "MLP = 4"
   ]
  },
  {
   "cell_type": "code",
   "execution_count": 5,
   "id": "440dc2ea",
   "metadata": {},
   "outputs": [],
   "source": [
    "file = 'active-super'\n",
    "results_path = '../../results/compiled'"
   ]
  },
  {
   "cell_type": "code",
   "execution_count": 6,
   "id": "c1d09f38",
   "metadata": {},
   "outputs": [],
   "source": [
    "# initializing lists\n",
    "accs = list()\n",
    "\n",
    "# reading results from file\n",
    "base_url = f'{results_path}/{file}'\n",
    "accs.append(read_file(f'{base_url}-accs-mean.txt'))"
   ]
  },
  {
   "cell_type": "markdown",
   "id": "b42a4056",
   "metadata": {},
   "source": [
    "## Statistical Tests"
   ]
  },
  {
   "cell_type": "code",
   "execution_count": 7,
   "id": "c7d2a73f",
   "metadata": {},
   "outputs": [],
   "source": [
    "learners = [RF, GB, LR, SVC, MLP]\n",
    "learner_names = ['RF', 'GB', 'LR', 'SVC', 'MLP']\n",
    "\n",
    "learners.reverse()\n",
    "learner_names.reverse()\n",
    "\n",
    "data = pd.DataFrame()\n",
    "\n",
    "for learner, name in zip(learners, learner_names):\n",
    "    data[name] = accs[ACTIVE_SUPER][learner]"
   ]
  },
  {
   "cell_type": "code",
   "execution_count": 8,
   "id": "6fdd69d4",
   "metadata": {},
   "outputs": [
    {
     "name": "stdout",
     "output_type": "stream",
     "text": [
      "RankResult(rankdf=\n",
      "     meanrank    median       mad ci_lower ci_upper effect_size   magnitude\n",
      "MLP      4.79  0.566125     0.029   0.5515  0.60175         0.0  negligible\n",
      "LR       3.63  0.618125  0.027875  0.60125  0.64325   -1.233113       large\n",
      "SVC      3.56  0.645625  0.052875   0.5925   0.6865   -1.257478       large\n",
      "RF       1.98  0.673375    0.0415    0.643  0.70625   -2.020658       large\n",
      "GB       1.04  0.707250  0.023875  0.68175   0.7225   -3.583679       large\n",
      "pvalue=6.942399420017882e-75\n",
      "cd=0.6099436402016305\n",
      "omnibus=friedman\n",
      "posthoc=nemenyi\n",
      "all_normal=False\n",
      "pvals_shapiro=[8.451342728221789e-05, 7.862536222091876e-06, 2.0529739686026005e-06, 2.583137757028453e-05, 3.248805668931709e-08]\n",
      "homoscedastic=False\n",
      "pval_homogeneity=6.966749195157587e-14\n",
      "homogeneity_test=levene\n",
      "alpha=0.05\n",
      "alpha_normality=0.01\n",
      "num_samples=100\n",
      "posterior_matrix=\n",
      "None\n",
      "decision_matrix=\n",
      "None\n",
      "rope=None\n",
      "rope_mode=None\n",
      "effect_size=akinshin_gamma)\n"
     ]
    }
   ],
   "source": [
    "result = autorank(data, alpha=0.05, verbose=False)\n",
    "print(result)"
   ]
  },
  {
   "cell_type": "code",
   "execution_count": 9,
   "id": "c3cda01b",
   "metadata": {},
   "outputs": [
    {
     "name": "stdout",
     "output_type": "stream",
     "text": [
      "The statistical analysis was conducted for 5 populations with 100 paired samples.\n",
      "The family-wise significance level of the tests is alpha=0.050.\n",
      "We rejected the null hypothesis that the population is normal for the populations MLP (p=0.000), LR (p=0.000), SVC (p=0.000), RF (p=0.000), and GB (p=0.000). Therefore, we assume that not all populations are normal.\n",
      "Because we have more than two populations and the populations and some of them are not normal, we use the non-parametric Friedman test as omnibus test to determine if there are any significant differences between the median values of the populations. We use the post-hoc Nemenyi test to infer which differences are significant. We report the median (MD), the median absolute deviation (MAD) and the mean rank (MR) among all populations over the samples. Differences between populations are significant, if the difference of the mean rank is greater than the critical distance CD=0.610 of the Nemenyi test.\n",
      "We reject the null hypothesis (p=0.000) of the Friedman test that there is no difference in the central tendency of the populations MLP (MD=0.566+-0.025, MAD=0.029, MR=4.790), LR (MD=0.618+-0.021, MAD=0.028, MR=3.630), SVC (MD=0.646+-0.047, MAD=0.053, MR=3.560), RF (MD=0.673+-0.032, MAD=0.042, MR=1.980), and GB (MD=0.707+-0.020, MAD=0.024, MR=1.040). Therefore, we assume that there is a statistically significant difference between the median values of the populations.\n",
      "Based on the post-hoc Nemenyi test, we assume that there are no significant differences within the following groups: LR and SVC. All other differences are significant.\n"
     ]
    }
   ],
   "source": [
    "create_report(result)"
   ]
  },
  {
   "cell_type": "code",
   "execution_count": 10,
   "id": "54eb4a5c",
   "metadata": {},
   "outputs": [
    {
     "data": {
      "image/png": "[encoded data removed]",
      "text/plain": [
       "<Figure size 432x118.8 with 1 Axes>"
      ]
     },
     "metadata": {},
     "output_type": "display_data"
    }
   ],
   "source": [
    "plot_stats(result)\n",
    "plt.show()"
   ]
  },
  {
   "cell_type": "markdown",
   "id": "ae50431c",
   "metadata": {},
   "source": [
    "## Creating file to [cd-diagram](https://github.com/hfawaz/cd-diagram) lib analysis"
   ]
  },
  {
   "cell_type": "code",
   "execution_count": 11,
   "id": "6870b356",
   "metadata": {},
   "outputs": [],
   "source": [
    "classifier_name = list()\n",
    "dataset_name = list()\n",
    "accuracy = list()\n",
    "\n",
    "for learner, name in zip(learners, learner_names):\n",
    "    for index, acc in enumerate(accs[ACTIVE_SUPER][learner]):\n",
    "        classifier_name.append(name)\n",
    "        dataset_name.append(f'dataset{index}')\n",
    "        accuracy.append(acc)\n",
    "        \n",
    "data = pd.DataFrame({\n",
    "    'classifier_name': classifier_name,\n",
    "    'dataset_name': dataset_name,\n",
    "    'accuracy': accuracy\n",
    "})"
   ]
  },
  {
   "cell_type": "code",
   "execution_count": 12,
   "id": "c8ecada8",
   "metadata": {},
   "outputs": [],
   "source": [
    "data.to_csv('example_super.csv', index=False)"
   ]
  }
 ],
 "metadata": {
  "kernelspec": {
   "display_name": "Python 3 (ipykernel)",
   "language": "python",
   "name": "python3"
  },
  "language_info": {
   "codemirror_mode": {
    "name": "ipython",
    "version": 3
   },
   "file_extension": ".py",
   "mimetype": "text/x-python",
   "name": "python",
   "nbconvert_exporter": "python",
   "pygments_lexer": "ipython3",
   "version": "3.8.10"
  }
 },
 "nbformat": 4,
 "nbformat_minor": 5
}
